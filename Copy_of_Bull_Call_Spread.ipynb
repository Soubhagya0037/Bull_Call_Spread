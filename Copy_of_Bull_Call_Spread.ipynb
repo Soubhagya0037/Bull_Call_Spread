{
  "cells": [
    {
      "cell_type": "markdown",
      "metadata": {
        "id": "7xDoWE7dE2cf"
      },
      "source": [
        "# Bull Call Spread on Bank Nifty Data"
      ]
    },
    {
      "cell_type": "markdown",
      "metadata": {
        "id": "8OVX7m3oE2cm"
      },
      "source": [
        "https://zerodha.com/varsity/chapter/bull-call-spread/"
      ]
    },
    {
      "cell_type": "markdown",
      "metadata": {
        "id": "KksWFXRsE2co"
      },
      "source": [
        "In this assignment I have given the code for bull call spread on bank nifty data for 1 month managing the delta of 0.8 <br/>\n",
        "Also rather than buying at the money call option, we have bought bank nifty futures at the start of the month and we will hedge it by selling OTM call option."
      ]
    },
    {
      "cell_type": "markdown",
      "metadata": {
        "id": "0lWRZW5NE2cq"
      },
      "source": [
        "## Importing important libraries"
      ]
    },
    {
      "cell_type": "code",
      "execution_count": 1,
      "metadata": {
        "id": "7Lb_SRTGE2cs",
        "colab": {
          "base_uri": "https://localhost:8080/"
        },
        "outputId": "ca12ffdc-c244-410b-9be7-4f1935df7a3b"
      },
      "outputs": [
        {
          "output_type": "stream",
          "name": "stdout",
          "text": [
            "Looking in indexes: https://pypi.org/simple, https://us-python.pkg.dev/colab-wheels/public/simple/\n",
            "Collecting py_vollib\n",
            "  Downloading py_vollib-1.0.1.tar.gz (19 kB)\n",
            "  Preparing metadata (setup.py) ... \u001b[?25l\u001b[?25hdone\n",
            "Collecting py_lets_be_rational\n",
            "  Downloading py_lets_be_rational-1.0.1.tar.gz (18 kB)\n",
            "  Preparing metadata (setup.py) ... \u001b[?25l\u001b[?25hdone\n",
            "Collecting simplejson\n",
            "  Downloading simplejson-3.18.1-cp38-cp38-manylinux_2_5_x86_64.manylinux1_x86_64.manylinux_2_17_x86_64.manylinux2014_x86_64.whl (135 kB)\n",
            "\u001b[2K     \u001b[90m━━━━━━━━━━━━━━━━━━━━━━━━━━━━━━━━━━━━━━━\u001b[0m \u001b[32m135.5/135.5 KB\u001b[0m \u001b[31m5.2 MB/s\u001b[0m eta \u001b[36m0:00:00\u001b[0m\n",
            "\u001b[?25hRequirement already satisfied: numpy in /usr/local/lib/python3.8/dist-packages (from py_vollib) (1.21.6)\n",
            "Requirement already satisfied: pandas in /usr/local/lib/python3.8/dist-packages (from py_vollib) (1.3.5)\n",
            "Requirement already satisfied: scipy in /usr/local/lib/python3.8/dist-packages (from py_vollib) (1.7.3)\n",
            "Requirement already satisfied: python-dateutil>=2.7.3 in /usr/local/lib/python3.8/dist-packages (from pandas->py_vollib) (2.8.2)\n",
            "Requirement already satisfied: pytz>=2017.3 in /usr/local/lib/python3.8/dist-packages (from pandas->py_vollib) (2022.7)\n",
            "Requirement already satisfied: six>=1.5 in /usr/local/lib/python3.8/dist-packages (from python-dateutil>=2.7.3->pandas->py_vollib) (1.15.0)\n",
            "Building wheels for collected packages: py_vollib, py_lets_be_rational\n",
            "  Building wheel for py_vollib (setup.py) ... \u001b[?25l\u001b[?25hdone\n",
            "  Created wheel for py_vollib: filename=py_vollib-1.0.1-py3-none-any.whl size=62855 sha256=cb53881f5cc467bfc882ffe64474d2a3054e8d0077e239ee494a419c4753bd4a\n",
            "  Stored in directory: /root/.cache/pip/wheels/38/8d/d9/a680031767bd6a3d734fc7c48a75767591795e47ac66ca143c\n",
            "  Building wheel for py_lets_be_rational (setup.py) ... \u001b[?25l\u001b[?25hdone\n",
            "  Created wheel for py_lets_be_rational: filename=py_lets_be_rational-1.0.1-py3-none-any.whl size=24470 sha256=3867b43c4f9d44583c1c2cb61b43833ba7306367974fc0a3036ad36d63626dc8\n",
            "  Stored in directory: /root/.cache/pip/wheels/e6/67/1e/93e41aebf34e4fd3cb02a865e9c782c9edaac5051f15a01d2e\n",
            "Successfully built py_vollib py_lets_be_rational\n",
            "Installing collected packages: simplejson, py_lets_be_rational, py_vollib\n",
            "Successfully installed py_lets_be_rational-1.0.1 py_vollib-1.0.1 simplejson-3.18.1\n",
            "Looking in indexes: https://pypi.org/simple, https://us-python.pkg.dev/colab-wheels/public/simple/\n",
            "Collecting yfinance\n",
            "  Downloading yfinance-0.2.3-py2.py3-none-any.whl (50 kB)\n",
            "\u001b[2K     \u001b[90m━━━━━━━━━━━━━━━━━━━━━━━━━━━━━━━━━━━━━━━━\u001b[0m \u001b[32m50.4/50.4 KB\u001b[0m \u001b[31m3.2 MB/s\u001b[0m eta \u001b[36m0:00:00\u001b[0m\n",
            "\u001b[?25hCollecting beautifulsoup4>=4.11.1\n",
            "  Downloading beautifulsoup4-4.11.1-py3-none-any.whl (128 kB)\n",
            "\u001b[2K     \u001b[90m━━━━━━━━━━━━━━━━━━━━━━━━━━━━━━━━━━━━━━━\u001b[0m \u001b[32m128.2/128.2 KB\u001b[0m \u001b[31m7.1 MB/s\u001b[0m eta \u001b[36m0:00:00\u001b[0m\n",
            "\u001b[?25hCollecting cryptography>=3.3.2\n",
            "  Downloading cryptography-39.0.0-cp36-abi3-manylinux_2_24_x86_64.whl (4.1 MB)\n",
            "\u001b[2K     \u001b[90m━━━━━━━━━━━━━━━━━━━━━━━━━━━━━━━━━━━━━━━━\u001b[0m \u001b[32m4.1/4.1 MB\u001b[0m \u001b[31m56.0 MB/s\u001b[0m eta \u001b[36m0:00:00\u001b[0m\n",
            "\u001b[?25hRequirement already satisfied: multitasking>=0.0.7 in /usr/local/lib/python3.8/dist-packages (from yfinance) (0.0.11)\n",
            "Requirement already satisfied: appdirs>=1.4.4 in /usr/local/lib/python3.8/dist-packages (from yfinance) (1.4.4)\n",
            "Requirement already satisfied: lxml>=4.9.1 in /usr/local/lib/python3.8/dist-packages (from yfinance) (4.9.2)\n",
            "Collecting html5lib>=1.1\n",
            "  Downloading html5lib-1.1-py2.py3-none-any.whl (112 kB)\n",
            "\u001b[2K     \u001b[90m━━━━━━━━━━━━━━━━━━━━━━━━━━━━━━━━━━━━━━\u001b[0m \u001b[32m112.2/112.2 KB\u001b[0m \u001b[31m13.7 MB/s\u001b[0m eta \u001b[36m0:00:00\u001b[0m\n",
            "\u001b[?25hRequirement already satisfied: pytz>=2022.5 in /usr/local/lib/python3.8/dist-packages (from yfinance) (2022.7)\n",
            "Requirement already satisfied: pandas>=1.3.0 in /usr/local/lib/python3.8/dist-packages (from yfinance) (1.3.5)\n",
            "Requirement already satisfied: numpy>=1.16.5 in /usr/local/lib/python3.8/dist-packages (from yfinance) (1.21.6)\n",
            "Collecting frozendict>=2.3.4\n",
            "  Downloading frozendict-2.3.4-cp38-cp38-manylinux_2_17_x86_64.manylinux2014_x86_64.whl (110 kB)\n",
            "\u001b[2K     \u001b[90m━━━━━━━━━━━━━━━━━━━━━━━━━━━━━━━━━━━━━━\u001b[0m \u001b[32m111.0/111.0 KB\u001b[0m \u001b[31m14.1 MB/s\u001b[0m eta \u001b[36m0:00:00\u001b[0m\n",
            "\u001b[?25hCollecting requests>=2.26\n",
            "  Downloading requests-2.28.1-py3-none-any.whl (62 kB)\n",
            "\u001b[2K     \u001b[90m━━━━━━━━━━━━━━━━━━━━━━━━━━━━━━━━━━━━━━━━\u001b[0m \u001b[32m62.8/62.8 KB\u001b[0m \u001b[31m7.1 MB/s\u001b[0m eta \u001b[36m0:00:00\u001b[0m\n",
            "\u001b[?25hCollecting soupsieve>1.2\n",
            "  Downloading soupsieve-2.3.2.post1-py3-none-any.whl (37 kB)\n",
            "Requirement already satisfied: cffi>=1.12 in /usr/local/lib/python3.8/dist-packages (from cryptography>=3.3.2->yfinance) (1.15.1)\n",
            "Requirement already satisfied: webencodings in /usr/local/lib/python3.8/dist-packages (from html5lib>=1.1->yfinance) (0.5.1)\n",
            "Requirement already satisfied: six>=1.9 in /usr/local/lib/python3.8/dist-packages (from html5lib>=1.1->yfinance) (1.15.0)\n",
            "Requirement already satisfied: python-dateutil>=2.7.3 in /usr/local/lib/python3.8/dist-packages (from pandas>=1.3.0->yfinance) (2.8.2)\n",
            "Requirement already satisfied: certifi>=2017.4.17 in /usr/local/lib/python3.8/dist-packages (from requests>=2.26->yfinance) (2022.12.7)\n",
            "Requirement already satisfied: idna<4,>=2.5 in /usr/local/lib/python3.8/dist-packages (from requests>=2.26->yfinance) (2.10)\n",
            "Requirement already satisfied: urllib3<1.27,>=1.21.1 in /usr/local/lib/python3.8/dist-packages (from requests>=2.26->yfinance) (1.24.3)\n",
            "Requirement already satisfied: charset-normalizer<3,>=2 in /usr/local/lib/python3.8/dist-packages (from requests>=2.26->yfinance) (2.1.1)\n",
            "Requirement already satisfied: pycparser in /usr/local/lib/python3.8/dist-packages (from cffi>=1.12->cryptography>=3.3.2->yfinance) (2.21)\n",
            "Installing collected packages: soupsieve, requests, html5lib, frozendict, cryptography, beautifulsoup4, yfinance\n",
            "  Attempting uninstall: requests\n",
            "    Found existing installation: requests 2.25.1\n",
            "    Uninstalling requests-2.25.1:\n",
            "      Successfully uninstalled requests-2.25.1\n",
            "  Attempting uninstall: html5lib\n",
            "    Found existing installation: html5lib 1.0.1\n",
            "    Uninstalling html5lib-1.0.1:\n",
            "      Successfully uninstalled html5lib-1.0.1\n",
            "  Attempting uninstall: beautifulsoup4\n",
            "    Found existing installation: beautifulsoup4 4.6.3\n",
            "    Uninstalling beautifulsoup4-4.6.3:\n",
            "      Successfully uninstalled beautifulsoup4-4.6.3\n",
            "Successfully installed beautifulsoup4-4.11.1 cryptography-39.0.0 frozendict-2.3.4 html5lib-1.1 requests-2.28.1 soupsieve-2.3.2.post1 yfinance-0.2.3\n",
            "Looking in indexes: https://pypi.org/simple, https://us-python.pkg.dev/colab-wheels/public/simple/\n",
            "Collecting nsepy\n",
            "  Downloading nsepy-0.8.tar.gz (33 kB)\n",
            "  Preparing metadata (setup.py) ... \u001b[?25l\u001b[?25hdone\n",
            "Requirement already satisfied: beautifulsoup4 in /usr/local/lib/python3.8/dist-packages (from nsepy) (4.11.1)\n",
            "Requirement already satisfied: requests in /usr/local/lib/python3.8/dist-packages (from nsepy) (2.28.1)\n",
            "Requirement already satisfied: numpy in /usr/local/lib/python3.8/dist-packages (from nsepy) (1.21.6)\n",
            "Requirement already satisfied: pandas in /usr/local/lib/python3.8/dist-packages (from nsepy) (1.3.5)\n",
            "Requirement already satisfied: six in /usr/local/lib/python3.8/dist-packages (from nsepy) (1.15.0)\n",
            "Requirement already satisfied: click in /usr/local/lib/python3.8/dist-packages (from nsepy) (7.1.2)\n",
            "Requirement already satisfied: lxml in /usr/local/lib/python3.8/dist-packages (from nsepy) (4.9.2)\n",
            "Requirement already satisfied: soupsieve>1.2 in /usr/local/lib/python3.8/dist-packages (from beautifulsoup4->nsepy) (2.3.2.post1)\n",
            "Requirement already satisfied: pytz>=2017.3 in /usr/local/lib/python3.8/dist-packages (from pandas->nsepy) (2022.7)\n",
            "Requirement already satisfied: python-dateutil>=2.7.3 in /usr/local/lib/python3.8/dist-packages (from pandas->nsepy) (2.8.2)\n",
            "Requirement already satisfied: idna<4,>=2.5 in /usr/local/lib/python3.8/dist-packages (from requests->nsepy) (2.10)\n",
            "Requirement already satisfied: certifi>=2017.4.17 in /usr/local/lib/python3.8/dist-packages (from requests->nsepy) (2022.12.7)\n",
            "Requirement already satisfied: charset-normalizer<3,>=2 in /usr/local/lib/python3.8/dist-packages (from requests->nsepy) (2.1.1)\n",
            "Requirement already satisfied: urllib3<1.27,>=1.21.1 in /usr/local/lib/python3.8/dist-packages (from requests->nsepy) (1.24.3)\n",
            "Building wheels for collected packages: nsepy\n",
            "  Building wheel for nsepy (setup.py) ... \u001b[?25l\u001b[?25hdone\n",
            "  Created wheel for nsepy: filename=nsepy-0.8-py3-none-any.whl size=36085 sha256=db8b78ff511d742df0fc1a36aba3e223157cd65f5feb3d61a07cf10d0ec2ba92\n",
            "  Stored in directory: /root/.cache/pip/wheels/b9/2c/cb/d74199e422a1dbc20297d10cfff9c54d03e0b5c6694d49ccdd\n",
            "Successfully built nsepy\n",
            "Installing collected packages: nsepy\n",
            "Successfully installed nsepy-0.8\n"
          ]
        }
      ],
      "source": [
        "!pip install py_vollib\n",
        "!pip install yfinance\n",
        "!pip install nsepy"
      ]
    },
    {
      "cell_type": "code",
      "execution_count": 2,
      "metadata": {
        "id": "tSeXWcnpE2cu"
      },
      "outputs": [],
      "source": [
        "import pandas as pd\n",
        "import matplotlib.pyplot as plt\n",
        "import numpy as np\n",
        "\n",
        "from datetime import datetime\n",
        "\n",
        "import warnings\n",
        "warnings.filterwarnings(\"ignore\")\n",
        "\n",
        "# to fetch data \n",
        "import yfinance as yf\n",
        "\n",
        "import scipy.stats as ss\n",
        "\n",
        "import py_vollib.black_scholes.greeks.analytical as derivatives\n",
        "\n",
        "import math\n",
        "from nsepy import get_history"
      ]
    },
    {
      "cell_type": "markdown",
      "metadata": {
        "id": "oU7NYmRME2cw"
      },
      "source": [
        "## Importing data"
      ]
    },
    {
      "cell_type": "code",
      "source": [
        "df_fut = pd.read_csv('/content/FUTIDX_BANKNIFTY_28-May-2021_TO_24-Jun-2021.csv')  #Fill in with the address of where you downloaded the file. You can check in properties of the file\n",
        "df_fut.head()"
      ],
      "metadata": {
        "colab": {
          "base_uri": "https://localhost:8080/",
          "height": 206
        },
        "id": "2bKnG7Yhf4ef",
        "outputId": "aa02f8ee-4663-49a8-fd66-07d2726fce85"
      },
      "execution_count": 4,
      "outputs": [
        {
          "output_type": "execute_result",
          "data": {
            "text/plain": [
              "      Symbol       Date     Expiry      Open      High       Low     Close  \\\n",
              "0  BANKNIFTY  28-May-21  24-Jun-21  35499.00  35670.00  35150.00  35321.80   \n",
              "1  BANKNIFTY  31-May-21  24-Jun-21  35280.00  35650.00  35063.15  35602.90   \n",
              "2  BANKNIFTY  01-Jun-21  24-Jun-21  35677.95  35797.45  35313.95  35454.10   \n",
              "3  BANKNIFTY  02-Jun-21  24-Jun-21  35380.00  35560.00  35180.00  35524.25   \n",
              "4  BANKNIFTY  03-Jun-21  24-Jun-21  35662.20  35890.00  35553.00  35781.95   \n",
              "\n",
              "        LTP  Settle Price  No. of contracts  Turnover in Lacs  Open Int  \\\n",
              "0  35394.05      35321.80            151658        1340811.02   1745000   \n",
              "1  35578.25      35602.90            141916        1257088.18   1723450   \n",
              "2  35470.00      35454.10            145631        1292727.92   1731125   \n",
              "3  35540.00      35524.25            113559        1003669.30   1700025   \n",
              "4  35775.00      35781.95            121729        1086929.72   1690250   \n",
              "\n",
              "   Change in OI Underlying Value   \n",
              "0         27775          35141.45  \n",
              "1        -21550                 -  \n",
              "2          7675                 -  \n",
              "3        -31100                 -  \n",
              "4         -9775                 -  "
            ],
            "text/html": [
              "\n",
              "  <div id=\"df-ebb64740-aaaa-4174-b8c4-a4f3158a79f5\">\n",
              "    <div class=\"colab-df-container\">\n",
              "      <div>\n",
              "<style scoped>\n",
              "    .dataframe tbody tr th:only-of-type {\n",
              "        vertical-align: middle;\n",
              "    }\n",
              "\n",
              "    .dataframe tbody tr th {\n",
              "        vertical-align: top;\n",
              "    }\n",
              "\n",
              "    .dataframe thead th {\n",
              "        text-align: right;\n",
              "    }\n",
              "</style>\n",
              "<table border=\"1\" class=\"dataframe\">\n",
              "  <thead>\n",
              "    <tr style=\"text-align: right;\">\n",
              "      <th></th>\n",
              "      <th>Symbol</th>\n",
              "      <th>Date</th>\n",
              "      <th>Expiry</th>\n",
              "      <th>Open</th>\n",
              "      <th>High</th>\n",
              "      <th>Low</th>\n",
              "      <th>Close</th>\n",
              "      <th>LTP</th>\n",
              "      <th>Settle Price</th>\n",
              "      <th>No. of contracts</th>\n",
              "      <th>Turnover in Lacs</th>\n",
              "      <th>Open Int</th>\n",
              "      <th>Change in OI</th>\n",
              "      <th>Underlying Value</th>\n",
              "    </tr>\n",
              "  </thead>\n",
              "  <tbody>\n",
              "    <tr>\n",
              "      <th>0</th>\n",
              "      <td>BANKNIFTY</td>\n",
              "      <td>28-May-21</td>\n",
              "      <td>24-Jun-21</td>\n",
              "      <td>35499.00</td>\n",
              "      <td>35670.00</td>\n",
              "      <td>35150.00</td>\n",
              "      <td>35321.80</td>\n",
              "      <td>35394.05</td>\n",
              "      <td>35321.80</td>\n",
              "      <td>151658</td>\n",
              "      <td>1340811.02</td>\n",
              "      <td>1745000</td>\n",
              "      <td>27775</td>\n",
              "      <td>35141.45</td>\n",
              "    </tr>\n",
              "    <tr>\n",
              "      <th>1</th>\n",
              "      <td>BANKNIFTY</td>\n",
              "      <td>31-May-21</td>\n",
              "      <td>24-Jun-21</td>\n",
              "      <td>35280.00</td>\n",
              "      <td>35650.00</td>\n",
              "      <td>35063.15</td>\n",
              "      <td>35602.90</td>\n",
              "      <td>35578.25</td>\n",
              "      <td>35602.90</td>\n",
              "      <td>141916</td>\n",
              "      <td>1257088.18</td>\n",
              "      <td>1723450</td>\n",
              "      <td>-21550</td>\n",
              "      <td>-</td>\n",
              "    </tr>\n",
              "    <tr>\n",
              "      <th>2</th>\n",
              "      <td>BANKNIFTY</td>\n",
              "      <td>01-Jun-21</td>\n",
              "      <td>24-Jun-21</td>\n",
              "      <td>35677.95</td>\n",
              "      <td>35797.45</td>\n",
              "      <td>35313.95</td>\n",
              "      <td>35454.10</td>\n",
              "      <td>35470.00</td>\n",
              "      <td>35454.10</td>\n",
              "      <td>145631</td>\n",
              "      <td>1292727.92</td>\n",
              "      <td>1731125</td>\n",
              "      <td>7675</td>\n",
              "      <td>-</td>\n",
              "    </tr>\n",
              "    <tr>\n",
              "      <th>3</th>\n",
              "      <td>BANKNIFTY</td>\n",
              "      <td>02-Jun-21</td>\n",
              "      <td>24-Jun-21</td>\n",
              "      <td>35380.00</td>\n",
              "      <td>35560.00</td>\n",
              "      <td>35180.00</td>\n",
              "      <td>35524.25</td>\n",
              "      <td>35540.00</td>\n",
              "      <td>35524.25</td>\n",
              "      <td>113559</td>\n",
              "      <td>1003669.30</td>\n",
              "      <td>1700025</td>\n",
              "      <td>-31100</td>\n",
              "      <td>-</td>\n",
              "    </tr>\n",
              "    <tr>\n",
              "      <th>4</th>\n",
              "      <td>BANKNIFTY</td>\n",
              "      <td>03-Jun-21</td>\n",
              "      <td>24-Jun-21</td>\n",
              "      <td>35662.20</td>\n",
              "      <td>35890.00</td>\n",
              "      <td>35553.00</td>\n",
              "      <td>35781.95</td>\n",
              "      <td>35775.00</td>\n",
              "      <td>35781.95</td>\n",
              "      <td>121729</td>\n",
              "      <td>1086929.72</td>\n",
              "      <td>1690250</td>\n",
              "      <td>-9775</td>\n",
              "      <td>-</td>\n",
              "    </tr>\n",
              "  </tbody>\n",
              "</table>\n",
              "</div>\n",
              "      <button class=\"colab-df-convert\" onclick=\"convertToInteractive('df-ebb64740-aaaa-4174-b8c4-a4f3158a79f5')\"\n",
              "              title=\"Convert this dataframe to an interactive table.\"\n",
              "              style=\"display:none;\">\n",
              "        \n",
              "  <svg xmlns=\"http://www.w3.org/2000/svg\" height=\"24px\"viewBox=\"0 0 24 24\"\n",
              "       width=\"24px\">\n",
              "    <path d=\"M0 0h24v24H0V0z\" fill=\"none\"/>\n",
              "    <path d=\"M18.56 5.44l.94 2.06.94-2.06 2.06-.94-2.06-.94-.94-2.06-.94 2.06-2.06.94zm-11 1L8.5 8.5l.94-2.06 2.06-.94-2.06-.94L8.5 2.5l-.94 2.06-2.06.94zm10 10l.94 2.06.94-2.06 2.06-.94-2.06-.94-.94-2.06-.94 2.06-2.06.94z\"/><path d=\"M17.41 7.96l-1.37-1.37c-.4-.4-.92-.59-1.43-.59-.52 0-1.04.2-1.43.59L10.3 9.45l-7.72 7.72c-.78.78-.78 2.05 0 2.83L4 21.41c.39.39.9.59 1.41.59.51 0 1.02-.2 1.41-.59l7.78-7.78 2.81-2.81c.8-.78.8-2.07 0-2.86zM5.41 20L4 18.59l7.72-7.72 1.47 1.35L5.41 20z\"/>\n",
              "  </svg>\n",
              "      </button>\n",
              "      \n",
              "  <style>\n",
              "    .colab-df-container {\n",
              "      display:flex;\n",
              "      flex-wrap:wrap;\n",
              "      gap: 12px;\n",
              "    }\n",
              "\n",
              "    .colab-df-convert {\n",
              "      background-color: #E8F0FE;\n",
              "      border: none;\n",
              "      border-radius: 50%;\n",
              "      cursor: pointer;\n",
              "      display: none;\n",
              "      fill: #1967D2;\n",
              "      height: 32px;\n",
              "      padding: 0 0 0 0;\n",
              "      width: 32px;\n",
              "    }\n",
              "\n",
              "    .colab-df-convert:hover {\n",
              "      background-color: #E2EBFA;\n",
              "      box-shadow: 0px 1px 2px rgba(60, 64, 67, 0.3), 0px 1px 3px 1px rgba(60, 64, 67, 0.15);\n",
              "      fill: #174EA6;\n",
              "    }\n",
              "\n",
              "    [theme=dark] .colab-df-convert {\n",
              "      background-color: #3B4455;\n",
              "      fill: #D2E3FC;\n",
              "    }\n",
              "\n",
              "    [theme=dark] .colab-df-convert:hover {\n",
              "      background-color: #434B5C;\n",
              "      box-shadow: 0px 1px 3px 1px rgba(0, 0, 0, 0.15);\n",
              "      filter: drop-shadow(0px 1px 2px rgba(0, 0, 0, 0.3));\n",
              "      fill: #FFFFFF;\n",
              "    }\n",
              "  </style>\n",
              "\n",
              "      <script>\n",
              "        const buttonEl =\n",
              "          document.querySelector('#df-ebb64740-aaaa-4174-b8c4-a4f3158a79f5 button.colab-df-convert');\n",
              "        buttonEl.style.display =\n",
              "          google.colab.kernel.accessAllowed ? 'block' : 'none';\n",
              "\n",
              "        async function convertToInteractive(key) {\n",
              "          const element = document.querySelector('#df-ebb64740-aaaa-4174-b8c4-a4f3158a79f5');\n",
              "          const dataTable =\n",
              "            await google.colab.kernel.invokeFunction('convertToInteractive',\n",
              "                                                     [key], {});\n",
              "          if (!dataTable) return;\n",
              "\n",
              "          const docLinkHtml = 'Like what you see? Visit the ' +\n",
              "            '<a target=\"_blank\" href=https://colab.research.google.com/notebooks/data_table.ipynb>data table notebook</a>'\n",
              "            + ' to learn more about interactive tables.';\n",
              "          element.innerHTML = '';\n",
              "          dataTable['output_type'] = 'display_data';\n",
              "          await google.colab.output.renderOutput(dataTable, element);\n",
              "          const docLink = document.createElement('div');\n",
              "          docLink.innerHTML = docLinkHtml;\n",
              "          element.appendChild(docLink);\n",
              "        }\n",
              "      </script>\n",
              "    </div>\n",
              "  </div>\n",
              "  "
            ]
          },
          "metadata": {},
          "execution_count": 4
        }
      ]
    },
    {
      "cell_type": "code",
      "execution_count": 5,
      "metadata": {
        "id": "dWfJrfbtE2cy",
        "colab": {
          "base_uri": "https://localhost:8080/",
          "height": 354
        },
        "outputId": "f990aa85-691c-45e5-dede-4a07f25d51b8"
      },
      "outputs": [
        {
          "output_type": "execute_result",
          "data": {
            "text/plain": [
              "      Symbol       Date     Expiry Option Type  Strike Price    Open    High  \\\n",
              "0  BANKNIFTY  28-May-21  24-Jun-21          CE         36000  849.95  924.50   \n",
              "1  BANKNIFTY  31-May-21  24-Jun-21          CE         36000  693.90  790.00   \n",
              "2  BANKNIFTY  01-Jun-21  24-Jun-21          CE         36000  782.00  832.00   \n",
              "3  BANKNIFTY  02-Jun-21  24-Jun-21          CE         36000  575.50  625.95   \n",
              "4  BANKNIFTY  03-Jun-21  24-Jun-21          CE         36000  659.05  753.90   \n",
              "\n",
              "      Low   Close     LTP  Settle Price  No. of contracts  Turnover in Lacs  \\\n",
              "0  665.60  730.80  743.30        730.80             26704         245464.26   \n",
              "1  598.10  772.95  752.05        772.95             19525         179242.57   \n",
              "2  633.35  660.65  661.00        660.65             31536         289503.11   \n",
              "3  533.85  612.70  606.85        612.70             19060         174293.32   \n",
              "4  596.50  698.40  696.00        698.40             24549         225062.12   \n",
              "\n",
              "   Premium Turnover in Lacs  Open Int  Change in OI Underlying Value  \n",
              "0                   5128.26    320700        116225         35141.45  \n",
              "1                   3517.57    331150         10450                -  \n",
              "2                   5679.11    313700        -17450                -  \n",
              "3                   2753.32    324475         10775                -  \n",
              "4                   4121.12    328425          3950                -  "
            ],
            "text/html": [
              "\n",
              "  <div id=\"df-bdae2c26-a63a-4581-9359-b401313e2a13\">\n",
              "    <div class=\"colab-df-container\">\n",
              "      <div>\n",
              "<style scoped>\n",
              "    .dataframe tbody tr th:only-of-type {\n",
              "        vertical-align: middle;\n",
              "    }\n",
              "\n",
              "    .dataframe tbody tr th {\n",
              "        vertical-align: top;\n",
              "    }\n",
              "\n",
              "    .dataframe thead th {\n",
              "        text-align: right;\n",
              "    }\n",
              "</style>\n",
              "<table border=\"1\" class=\"dataframe\">\n",
              "  <thead>\n",
              "    <tr style=\"text-align: right;\">\n",
              "      <th></th>\n",
              "      <th>Symbol</th>\n",
              "      <th>Date</th>\n",
              "      <th>Expiry</th>\n",
              "      <th>Option Type</th>\n",
              "      <th>Strike Price</th>\n",
              "      <th>Open</th>\n",
              "      <th>High</th>\n",
              "      <th>Low</th>\n",
              "      <th>Close</th>\n",
              "      <th>LTP</th>\n",
              "      <th>Settle Price</th>\n",
              "      <th>No. of contracts</th>\n",
              "      <th>Turnover in Lacs</th>\n",
              "      <th>Premium Turnover in Lacs</th>\n",
              "      <th>Open Int</th>\n",
              "      <th>Change in OI</th>\n",
              "      <th>Underlying Value</th>\n",
              "    </tr>\n",
              "  </thead>\n",
              "  <tbody>\n",
              "    <tr>\n",
              "      <th>0</th>\n",
              "      <td>BANKNIFTY</td>\n",
              "      <td>28-May-21</td>\n",
              "      <td>24-Jun-21</td>\n",
              "      <td>CE</td>\n",
              "      <td>36000</td>\n",
              "      <td>849.95</td>\n",
              "      <td>924.50</td>\n",
              "      <td>665.60</td>\n",
              "      <td>730.80</td>\n",
              "      <td>743.30</td>\n",
              "      <td>730.80</td>\n",
              "      <td>26704</td>\n",
              "      <td>245464.26</td>\n",
              "      <td>5128.26</td>\n",
              "      <td>320700</td>\n",
              "      <td>116225</td>\n",
              "      <td>35141.45</td>\n",
              "    </tr>\n",
              "    <tr>\n",
              "      <th>1</th>\n",
              "      <td>BANKNIFTY</td>\n",
              "      <td>31-May-21</td>\n",
              "      <td>24-Jun-21</td>\n",
              "      <td>CE</td>\n",
              "      <td>36000</td>\n",
              "      <td>693.90</td>\n",
              "      <td>790.00</td>\n",
              "      <td>598.10</td>\n",
              "      <td>772.95</td>\n",
              "      <td>752.05</td>\n",
              "      <td>772.95</td>\n",
              "      <td>19525</td>\n",
              "      <td>179242.57</td>\n",
              "      <td>3517.57</td>\n",
              "      <td>331150</td>\n",
              "      <td>10450</td>\n",
              "      <td>-</td>\n",
              "    </tr>\n",
              "    <tr>\n",
              "      <th>2</th>\n",
              "      <td>BANKNIFTY</td>\n",
              "      <td>01-Jun-21</td>\n",
              "      <td>24-Jun-21</td>\n",
              "      <td>CE</td>\n",
              "      <td>36000</td>\n",
              "      <td>782.00</td>\n",
              "      <td>832.00</td>\n",
              "      <td>633.35</td>\n",
              "      <td>660.65</td>\n",
              "      <td>661.00</td>\n",
              "      <td>660.65</td>\n",
              "      <td>31536</td>\n",
              "      <td>289503.11</td>\n",
              "      <td>5679.11</td>\n",
              "      <td>313700</td>\n",
              "      <td>-17450</td>\n",
              "      <td>-</td>\n",
              "    </tr>\n",
              "    <tr>\n",
              "      <th>3</th>\n",
              "      <td>BANKNIFTY</td>\n",
              "      <td>02-Jun-21</td>\n",
              "      <td>24-Jun-21</td>\n",
              "      <td>CE</td>\n",
              "      <td>36000</td>\n",
              "      <td>575.50</td>\n",
              "      <td>625.95</td>\n",
              "      <td>533.85</td>\n",
              "      <td>612.70</td>\n",
              "      <td>606.85</td>\n",
              "      <td>612.70</td>\n",
              "      <td>19060</td>\n",
              "      <td>174293.32</td>\n",
              "      <td>2753.32</td>\n",
              "      <td>324475</td>\n",
              "      <td>10775</td>\n",
              "      <td>-</td>\n",
              "    </tr>\n",
              "    <tr>\n",
              "      <th>4</th>\n",
              "      <td>BANKNIFTY</td>\n",
              "      <td>03-Jun-21</td>\n",
              "      <td>24-Jun-21</td>\n",
              "      <td>CE</td>\n",
              "      <td>36000</td>\n",
              "      <td>659.05</td>\n",
              "      <td>753.90</td>\n",
              "      <td>596.50</td>\n",
              "      <td>698.40</td>\n",
              "      <td>696.00</td>\n",
              "      <td>698.40</td>\n",
              "      <td>24549</td>\n",
              "      <td>225062.12</td>\n",
              "      <td>4121.12</td>\n",
              "      <td>328425</td>\n",
              "      <td>3950</td>\n",
              "      <td>-</td>\n",
              "    </tr>\n",
              "  </tbody>\n",
              "</table>\n",
              "</div>\n",
              "      <button class=\"colab-df-convert\" onclick=\"convertToInteractive('df-bdae2c26-a63a-4581-9359-b401313e2a13')\"\n",
              "              title=\"Convert this dataframe to an interactive table.\"\n",
              "              style=\"display:none;\">\n",
              "        \n",
              "  <svg xmlns=\"http://www.w3.org/2000/svg\" height=\"24px\"viewBox=\"0 0 24 24\"\n",
              "       width=\"24px\">\n",
              "    <path d=\"M0 0h24v24H0V0z\" fill=\"none\"/>\n",
              "    <path d=\"M18.56 5.44l.94 2.06.94-2.06 2.06-.94-2.06-.94-.94-2.06-.94 2.06-2.06.94zm-11 1L8.5 8.5l.94-2.06 2.06-.94-2.06-.94L8.5 2.5l-.94 2.06-2.06.94zm10 10l.94 2.06.94-2.06 2.06-.94-2.06-.94-.94-2.06-.94 2.06-2.06.94z\"/><path d=\"M17.41 7.96l-1.37-1.37c-.4-.4-.92-.59-1.43-.59-.52 0-1.04.2-1.43.59L10.3 9.45l-7.72 7.72c-.78.78-.78 2.05 0 2.83L4 21.41c.39.39.9.59 1.41.59.51 0 1.02-.2 1.41-.59l7.78-7.78 2.81-2.81c.8-.78.8-2.07 0-2.86zM5.41 20L4 18.59l7.72-7.72 1.47 1.35L5.41 20z\"/>\n",
              "  </svg>\n",
              "      </button>\n",
              "      \n",
              "  <style>\n",
              "    .colab-df-container {\n",
              "      display:flex;\n",
              "      flex-wrap:wrap;\n",
              "      gap: 12px;\n",
              "    }\n",
              "\n",
              "    .colab-df-convert {\n",
              "      background-color: #E8F0FE;\n",
              "      border: none;\n",
              "      border-radius: 50%;\n",
              "      cursor: pointer;\n",
              "      display: none;\n",
              "      fill: #1967D2;\n",
              "      height: 32px;\n",
              "      padding: 0 0 0 0;\n",
              "      width: 32px;\n",
              "    }\n",
              "\n",
              "    .colab-df-convert:hover {\n",
              "      background-color: #E2EBFA;\n",
              "      box-shadow: 0px 1px 2px rgba(60, 64, 67, 0.3), 0px 1px 3px 1px rgba(60, 64, 67, 0.15);\n",
              "      fill: #174EA6;\n",
              "    }\n",
              "\n",
              "    [theme=dark] .colab-df-convert {\n",
              "      background-color: #3B4455;\n",
              "      fill: #D2E3FC;\n",
              "    }\n",
              "\n",
              "    [theme=dark] .colab-df-convert:hover {\n",
              "      background-color: #434B5C;\n",
              "      box-shadow: 0px 1px 3px 1px rgba(0, 0, 0, 0.15);\n",
              "      filter: drop-shadow(0px 1px 2px rgba(0, 0, 0, 0.3));\n",
              "      fill: #FFFFFF;\n",
              "    }\n",
              "  </style>\n",
              "\n",
              "      <script>\n",
              "        const buttonEl =\n",
              "          document.querySelector('#df-bdae2c26-a63a-4581-9359-b401313e2a13 button.colab-df-convert');\n",
              "        buttonEl.style.display =\n",
              "          google.colab.kernel.accessAllowed ? 'block' : 'none';\n",
              "\n",
              "        async function convertToInteractive(key) {\n",
              "          const element = document.querySelector('#df-bdae2c26-a63a-4581-9359-b401313e2a13');\n",
              "          const dataTable =\n",
              "            await google.colab.kernel.invokeFunction('convertToInteractive',\n",
              "                                                     [key], {});\n",
              "          if (!dataTable) return;\n",
              "\n",
              "          const docLinkHtml = 'Like what you see? Visit the ' +\n",
              "            '<a target=\"_blank\" href=https://colab.research.google.com/notebooks/data_table.ipynb>data table notebook</a>'\n",
              "            + ' to learn more about interactive tables.';\n",
              "          element.innerHTML = '';\n",
              "          dataTable['output_type'] = 'display_data';\n",
              "          await google.colab.output.renderOutput(dataTable, element);\n",
              "          const docLink = document.createElement('div');\n",
              "          docLink.innerHTML = docLinkHtml;\n",
              "          element.appendChild(docLink);\n",
              "        }\n",
              "      </script>\n",
              "    </div>\n",
              "  </div>\n",
              "  "
            ]
          },
          "metadata": {},
          "execution_count": 5
        }
      ],
      "source": [
        "df_call_36000 = pd.read_csv('/content/OPTIDX_BANKNIFTY_CE_28-May-2021_TO_24-Jun-2021.csv')\n",
        "df_call_36000.head()"
      ]
    },
    {
      "cell_type": "code",
      "execution_count": 6,
      "metadata": {
        "id": "OdNi1apQE2cz",
        "colab": {
          "base_uri": "https://localhost:8080/",
          "height": 256
        },
        "outputId": "1dc33641-3678-48aa-e37d-61568ba583cf"
      },
      "outputs": [
        {
          "output_type": "stream",
          "name": "stdout",
          "text": [
            "\r[*********************100%***********************]  1 of 1 completed\n"
          ]
        },
        {
          "output_type": "execute_result",
          "data": {
            "text/plain": [
              "                    Open          High           Low         Close  \\\n",
              "Date                                                                 \n",
              "2021-05-28  35345.648438  35436.648438  34977.199219  35141.449219   \n",
              "2021-05-31  35097.449219  35584.300781  34930.101562  35526.648438   \n",
              "2021-06-01  35639.750000  35713.898438  35241.199219  35337.199219   \n",
              "2021-06-02  35271.601562  35415.851562  35070.300781  35373.750000   \n",
              "2021-06-03  35536.449219  35723.699219  35413.000000  35649.000000   \n",
              "\n",
              "               Adj Close  Volume  \n",
              "Date                              \n",
              "2021-05-28  35141.449219       0  \n",
              "2021-05-31  35526.648438       0  \n",
              "2021-06-01  35337.199219       0  \n",
              "2021-06-02  35373.750000       0  \n",
              "2021-06-03  35649.000000       0  "
            ],
            "text/html": [
              "\n",
              "  <div id=\"df-5f8b9096-4a6b-4c5c-bd98-2f18469b582e\">\n",
              "    <div class=\"colab-df-container\">\n",
              "      <div>\n",
              "<style scoped>\n",
              "    .dataframe tbody tr th:only-of-type {\n",
              "        vertical-align: middle;\n",
              "    }\n",
              "\n",
              "    .dataframe tbody tr th {\n",
              "        vertical-align: top;\n",
              "    }\n",
              "\n",
              "    .dataframe thead th {\n",
              "        text-align: right;\n",
              "    }\n",
              "</style>\n",
              "<table border=\"1\" class=\"dataframe\">\n",
              "  <thead>\n",
              "    <tr style=\"text-align: right;\">\n",
              "      <th></th>\n",
              "      <th>Open</th>\n",
              "      <th>High</th>\n",
              "      <th>Low</th>\n",
              "      <th>Close</th>\n",
              "      <th>Adj Close</th>\n",
              "      <th>Volume</th>\n",
              "    </tr>\n",
              "    <tr>\n",
              "      <th>Date</th>\n",
              "      <th></th>\n",
              "      <th></th>\n",
              "      <th></th>\n",
              "      <th></th>\n",
              "      <th></th>\n",
              "      <th></th>\n",
              "    </tr>\n",
              "  </thead>\n",
              "  <tbody>\n",
              "    <tr>\n",
              "      <th>2021-05-28</th>\n",
              "      <td>35345.648438</td>\n",
              "      <td>35436.648438</td>\n",
              "      <td>34977.199219</td>\n",
              "      <td>35141.449219</td>\n",
              "      <td>35141.449219</td>\n",
              "      <td>0</td>\n",
              "    </tr>\n",
              "    <tr>\n",
              "      <th>2021-05-31</th>\n",
              "      <td>35097.449219</td>\n",
              "      <td>35584.300781</td>\n",
              "      <td>34930.101562</td>\n",
              "      <td>35526.648438</td>\n",
              "      <td>35526.648438</td>\n",
              "      <td>0</td>\n",
              "    </tr>\n",
              "    <tr>\n",
              "      <th>2021-06-01</th>\n",
              "      <td>35639.750000</td>\n",
              "      <td>35713.898438</td>\n",
              "      <td>35241.199219</td>\n",
              "      <td>35337.199219</td>\n",
              "      <td>35337.199219</td>\n",
              "      <td>0</td>\n",
              "    </tr>\n",
              "    <tr>\n",
              "      <th>2021-06-02</th>\n",
              "      <td>35271.601562</td>\n",
              "      <td>35415.851562</td>\n",
              "      <td>35070.300781</td>\n",
              "      <td>35373.750000</td>\n",
              "      <td>35373.750000</td>\n",
              "      <td>0</td>\n",
              "    </tr>\n",
              "    <tr>\n",
              "      <th>2021-06-03</th>\n",
              "      <td>35536.449219</td>\n",
              "      <td>35723.699219</td>\n",
              "      <td>35413.000000</td>\n",
              "      <td>35649.000000</td>\n",
              "      <td>35649.000000</td>\n",
              "      <td>0</td>\n",
              "    </tr>\n",
              "  </tbody>\n",
              "</table>\n",
              "</div>\n",
              "      <button class=\"colab-df-convert\" onclick=\"convertToInteractive('df-5f8b9096-4a6b-4c5c-bd98-2f18469b582e')\"\n",
              "              title=\"Convert this dataframe to an interactive table.\"\n",
              "              style=\"display:none;\">\n",
              "        \n",
              "  <svg xmlns=\"http://www.w3.org/2000/svg\" height=\"24px\"viewBox=\"0 0 24 24\"\n",
              "       width=\"24px\">\n",
              "    <path d=\"M0 0h24v24H0V0z\" fill=\"none\"/>\n",
              "    <path d=\"M18.56 5.44l.94 2.06.94-2.06 2.06-.94-2.06-.94-.94-2.06-.94 2.06-2.06.94zm-11 1L8.5 8.5l.94-2.06 2.06-.94-2.06-.94L8.5 2.5l-.94 2.06-2.06.94zm10 10l.94 2.06.94-2.06 2.06-.94-2.06-.94-.94-2.06-.94 2.06-2.06.94z\"/><path d=\"M17.41 7.96l-1.37-1.37c-.4-.4-.92-.59-1.43-.59-.52 0-1.04.2-1.43.59L10.3 9.45l-7.72 7.72c-.78.78-.78 2.05 0 2.83L4 21.41c.39.39.9.59 1.41.59.51 0 1.02-.2 1.41-.59l7.78-7.78 2.81-2.81c.8-.78.8-2.07 0-2.86zM5.41 20L4 18.59l7.72-7.72 1.47 1.35L5.41 20z\"/>\n",
              "  </svg>\n",
              "      </button>\n",
              "      \n",
              "  <style>\n",
              "    .colab-df-container {\n",
              "      display:flex;\n",
              "      flex-wrap:wrap;\n",
              "      gap: 12px;\n",
              "    }\n",
              "\n",
              "    .colab-df-convert {\n",
              "      background-color: #E8F0FE;\n",
              "      border: none;\n",
              "      border-radius: 50%;\n",
              "      cursor: pointer;\n",
              "      display: none;\n",
              "      fill: #1967D2;\n",
              "      height: 32px;\n",
              "      padding: 0 0 0 0;\n",
              "      width: 32px;\n",
              "    }\n",
              "\n",
              "    .colab-df-convert:hover {\n",
              "      background-color: #E2EBFA;\n",
              "      box-shadow: 0px 1px 2px rgba(60, 64, 67, 0.3), 0px 1px 3px 1px rgba(60, 64, 67, 0.15);\n",
              "      fill: #174EA6;\n",
              "    }\n",
              "\n",
              "    [theme=dark] .colab-df-convert {\n",
              "      background-color: #3B4455;\n",
              "      fill: #D2E3FC;\n",
              "    }\n",
              "\n",
              "    [theme=dark] .colab-df-convert:hover {\n",
              "      background-color: #434B5C;\n",
              "      box-shadow: 0px 1px 3px 1px rgba(0, 0, 0, 0.15);\n",
              "      filter: drop-shadow(0px 1px 2px rgba(0, 0, 0, 0.3));\n",
              "      fill: #FFFFFF;\n",
              "    }\n",
              "  </style>\n",
              "\n",
              "      <script>\n",
              "        const buttonEl =\n",
              "          document.querySelector('#df-5f8b9096-4a6b-4c5c-bd98-2f18469b582e button.colab-df-convert');\n",
              "        buttonEl.style.display =\n",
              "          google.colab.kernel.accessAllowed ? 'block' : 'none';\n",
              "\n",
              "        async function convertToInteractive(key) {\n",
              "          const element = document.querySelector('#df-5f8b9096-4a6b-4c5c-bd98-2f18469b582e');\n",
              "          const dataTable =\n",
              "            await google.colab.kernel.invokeFunction('convertToInteractive',\n",
              "                                                     [key], {});\n",
              "          if (!dataTable) return;\n",
              "\n",
              "          const docLinkHtml = 'Like what you see? Visit the ' +\n",
              "            '<a target=\"_blank\" href=https://colab.research.google.com/notebooks/data_table.ipynb>data table notebook</a>'\n",
              "            + ' to learn more about interactive tables.';\n",
              "          element.innerHTML = '';\n",
              "          dataTable['output_type'] = 'display_data';\n",
              "          await google.colab.output.renderOutput(dataTable, element);\n",
              "          const docLink = document.createElement('div');\n",
              "          docLink.innerHTML = docLinkHtml;\n",
              "          element.appendChild(docLink);\n",
              "        }\n",
              "      </script>\n",
              "    </div>\n",
              "  </div>\n",
              "  "
            ]
          },
          "metadata": {},
          "execution_count": 6
        }
      ],
      "source": [
        "symbol = '^NSEBANK'\n",
        "end = '2021-06-25'\n",
        "start = '2021-05-28'\n",
        "\n",
        "\n",
        "# Read data \n",
        "df = yf.download(symbol,start,end)\n",
        "\n",
        "df.head()"
      ]
    },
    {
      "cell_type": "markdown",
      "metadata": {
        "id": "8z9nZqOME2c0"
      },
      "source": [
        "### Calculation of annual volatility and time remainig for expiry used in calculation of delta"
      ]
    },
    {
      "cell_type": "code",
      "execution_count": 7,
      "metadata": {
        "id": "MD-tOY88E2c0",
        "colab": {
          "base_uri": "https://localhost:8080/",
          "height": 256
        },
        "outputId": "1b53d838-09b8-4bc0-a083-03f05fdaf082"
      },
      "outputs": [
        {
          "output_type": "stream",
          "name": "stdout",
          "text": [
            "\r[*********************100%***********************]  1 of 1 completed\n"
          ]
        },
        {
          "output_type": "execute_result",
          "data": {
            "text/plain": [
              "                    Open          High           Low         Close  \\\n",
              "Date                                                                 \n",
              "2020-05-28  18924.449219  19455.550781  18818.949219  19169.800781   \n",
              "2020-05-29  18962.000000  19358.050781  18729.900391  19297.250000   \n",
              "2020-06-01  19728.900391  20225.349609  19632.900391  19959.900391   \n",
              "2020-06-02  20120.599609  20615.750000  19852.550781  20530.199219   \n",
              "2020-06-03  20966.599609  21619.550781  20822.000000  20940.699219   \n",
              "\n",
              "               Adj Close  Volume  \n",
              "Date                              \n",
              "2020-05-28  19169.800781  561100  \n",
              "2020-05-29  19297.250000  581700  \n",
              "2020-06-01  19959.900391  558100  \n",
              "2020-06-02  20530.199219  448300  \n",
              "2020-06-03  20940.699219  616900  "
            ],
            "text/html": [
              "\n",
              "  <div id=\"df-2ac14a5e-ecb9-47d0-8274-b5f0c94f9fd3\">\n",
              "    <div class=\"colab-df-container\">\n",
              "      <div>\n",
              "<style scoped>\n",
              "    .dataframe tbody tr th:only-of-type {\n",
              "        vertical-align: middle;\n",
              "    }\n",
              "\n",
              "    .dataframe tbody tr th {\n",
              "        vertical-align: top;\n",
              "    }\n",
              "\n",
              "    .dataframe thead th {\n",
              "        text-align: right;\n",
              "    }\n",
              "</style>\n",
              "<table border=\"1\" class=\"dataframe\">\n",
              "  <thead>\n",
              "    <tr style=\"text-align: right;\">\n",
              "      <th></th>\n",
              "      <th>Open</th>\n",
              "      <th>High</th>\n",
              "      <th>Low</th>\n",
              "      <th>Close</th>\n",
              "      <th>Adj Close</th>\n",
              "      <th>Volume</th>\n",
              "    </tr>\n",
              "    <tr>\n",
              "      <th>Date</th>\n",
              "      <th></th>\n",
              "      <th></th>\n",
              "      <th></th>\n",
              "      <th></th>\n",
              "      <th></th>\n",
              "      <th></th>\n",
              "    </tr>\n",
              "  </thead>\n",
              "  <tbody>\n",
              "    <tr>\n",
              "      <th>2020-05-28</th>\n",
              "      <td>18924.449219</td>\n",
              "      <td>19455.550781</td>\n",
              "      <td>18818.949219</td>\n",
              "      <td>19169.800781</td>\n",
              "      <td>19169.800781</td>\n",
              "      <td>561100</td>\n",
              "    </tr>\n",
              "    <tr>\n",
              "      <th>2020-05-29</th>\n",
              "      <td>18962.000000</td>\n",
              "      <td>19358.050781</td>\n",
              "      <td>18729.900391</td>\n",
              "      <td>19297.250000</td>\n",
              "      <td>19297.250000</td>\n",
              "      <td>581700</td>\n",
              "    </tr>\n",
              "    <tr>\n",
              "      <th>2020-06-01</th>\n",
              "      <td>19728.900391</td>\n",
              "      <td>20225.349609</td>\n",
              "      <td>19632.900391</td>\n",
              "      <td>19959.900391</td>\n",
              "      <td>19959.900391</td>\n",
              "      <td>558100</td>\n",
              "    </tr>\n",
              "    <tr>\n",
              "      <th>2020-06-02</th>\n",
              "      <td>20120.599609</td>\n",
              "      <td>20615.750000</td>\n",
              "      <td>19852.550781</td>\n",
              "      <td>20530.199219</td>\n",
              "      <td>20530.199219</td>\n",
              "      <td>448300</td>\n",
              "    </tr>\n",
              "    <tr>\n",
              "      <th>2020-06-03</th>\n",
              "      <td>20966.599609</td>\n",
              "      <td>21619.550781</td>\n",
              "      <td>20822.000000</td>\n",
              "      <td>20940.699219</td>\n",
              "      <td>20940.699219</td>\n",
              "      <td>616900</td>\n",
              "    </tr>\n",
              "  </tbody>\n",
              "</table>\n",
              "</div>\n",
              "      <button class=\"colab-df-convert\" onclick=\"convertToInteractive('df-2ac14a5e-ecb9-47d0-8274-b5f0c94f9fd3')\"\n",
              "              title=\"Convert this dataframe to an interactive table.\"\n",
              "              style=\"display:none;\">\n",
              "        \n",
              "  <svg xmlns=\"http://www.w3.org/2000/svg\" height=\"24px\"viewBox=\"0 0 24 24\"\n",
              "       width=\"24px\">\n",
              "    <path d=\"M0 0h24v24H0V0z\" fill=\"none\"/>\n",
              "    <path d=\"M18.56 5.44l.94 2.06.94-2.06 2.06-.94-2.06-.94-.94-2.06-.94 2.06-2.06.94zm-11 1L8.5 8.5l.94-2.06 2.06-.94-2.06-.94L8.5 2.5l-.94 2.06-2.06.94zm10 10l.94 2.06.94-2.06 2.06-.94-2.06-.94-.94-2.06-.94 2.06-2.06.94z\"/><path d=\"M17.41 7.96l-1.37-1.37c-.4-.4-.92-.59-1.43-.59-.52 0-1.04.2-1.43.59L10.3 9.45l-7.72 7.72c-.78.78-.78 2.05 0 2.83L4 21.41c.39.39.9.59 1.41.59.51 0 1.02-.2 1.41-.59l7.78-7.78 2.81-2.81c.8-.78.8-2.07 0-2.86zM5.41 20L4 18.59l7.72-7.72 1.47 1.35L5.41 20z\"/>\n",
              "  </svg>\n",
              "      </button>\n",
              "      \n",
              "  <style>\n",
              "    .colab-df-container {\n",
              "      display:flex;\n",
              "      flex-wrap:wrap;\n",
              "      gap: 12px;\n",
              "    }\n",
              "\n",
              "    .colab-df-convert {\n",
              "      background-color: #E8F0FE;\n",
              "      border: none;\n",
              "      border-radius: 50%;\n",
              "      cursor: pointer;\n",
              "      display: none;\n",
              "      fill: #1967D2;\n",
              "      height: 32px;\n",
              "      padding: 0 0 0 0;\n",
              "      width: 32px;\n",
              "    }\n",
              "\n",
              "    .colab-df-convert:hover {\n",
              "      background-color: #E2EBFA;\n",
              "      box-shadow: 0px 1px 2px rgba(60, 64, 67, 0.3), 0px 1px 3px 1px rgba(60, 64, 67, 0.15);\n",
              "      fill: #174EA6;\n",
              "    }\n",
              "\n",
              "    [theme=dark] .colab-df-convert {\n",
              "      background-color: #3B4455;\n",
              "      fill: #D2E3FC;\n",
              "    }\n",
              "\n",
              "    [theme=dark] .colab-df-convert:hover {\n",
              "      background-color: #434B5C;\n",
              "      box-shadow: 0px 1px 3px 1px rgba(0, 0, 0, 0.15);\n",
              "      filter: drop-shadow(0px 1px 2px rgba(0, 0, 0, 0.3));\n",
              "      fill: #FFFFFF;\n",
              "    }\n",
              "  </style>\n",
              "\n",
              "      <script>\n",
              "        const buttonEl =\n",
              "          document.querySelector('#df-2ac14a5e-ecb9-47d0-8274-b5f0c94f9fd3 button.colab-df-convert');\n",
              "        buttonEl.style.display =\n",
              "          google.colab.kernel.accessAllowed ? 'block' : 'none';\n",
              "\n",
              "        async function convertToInteractive(key) {\n",
              "          const element = document.querySelector('#df-2ac14a5e-ecb9-47d0-8274-b5f0c94f9fd3');\n",
              "          const dataTable =\n",
              "            await google.colab.kernel.invokeFunction('convertToInteractive',\n",
              "                                                     [key], {});\n",
              "          if (!dataTable) return;\n",
              "\n",
              "          const docLinkHtml = 'Like what you see? Visit the ' +\n",
              "            '<a target=\"_blank\" href=https://colab.research.google.com/notebooks/data_table.ipynb>data table notebook</a>'\n",
              "            + ' to learn more about interactive tables.';\n",
              "          element.innerHTML = '';\n",
              "          dataTable['output_type'] = 'display_data';\n",
              "          await google.colab.output.renderOutput(dataTable, element);\n",
              "          const docLink = document.createElement('div');\n",
              "          docLink.innerHTML = docLinkHtml;\n",
              "          element.appendChild(docLink);\n",
              "        }\n",
              "      </script>\n",
              "    </div>\n",
              "  </div>\n",
              "  "
            ]
          },
          "metadata": {},
          "execution_count": 7
        }
      ],
      "source": [
        "symbol = '^NSEBANK'\n",
        "end = '2021-05-28'\n",
        "start = '2020-05-28'\n",
        "\n",
        "\n",
        "# Read data \n",
        "df_year = yf.download(symbol,start,end)\n",
        "\n",
        "df_year.head()\n",
        "#You need to read the from the files provided on NSE Bank for the time given above."
      ]
    },
    {
      "cell_type": "code",
      "execution_count": 8,
      "metadata": {
        "id": "fHKIhafJE2c1"
      },
      "outputs": [],
      "source": [
        "ret = df_year['Close'].pct_change()[1:] # percentage change"
      ]
    },
    {
      "cell_type": "code",
      "execution_count": 9,
      "metadata": {
        "id": "s4VRF2EWE2c1",
        "colab": {
          "base_uri": "https://localhost:8080/"
        },
        "outputId": "8179ae52-7ea6-4ae5-b875-e6f21aae02a7"
      },
      "outputs": [
        {
          "output_type": "execute_result",
          "data": {
            "text/plain": [
              "Date\n",
              "2020-05-29    0.006648\n",
              "2020-06-01    0.034339\n",
              "2020-06-02    0.028572\n",
              "2020-06-03    0.019995\n",
              "2020-06-04   -0.026277\n",
              "Name: Close, dtype: float64"
            ]
          },
          "metadata": {},
          "execution_count": 9
        }
      ],
      "source": [
        "ret.head()"
      ]
    },
    {
      "cell_type": "code",
      "execution_count": 10,
      "metadata": {
        "id": "n6SDOj-CE2c2",
        "colab": {
          "base_uri": "https://localhost:8080/"
        },
        "outputId": "364c7ba6-1a6f-4d87-9a78-78eea996c9da"
      },
      "outputs": [
        {
          "output_type": "execute_result",
          "data": {
            "text/plain": [
              "0.018580334637206996"
            ]
          },
          "metadata": {},
          "execution_count": 10
        }
      ],
      "source": [
        "daily_vol = ret.std()\n",
        "daily_vol"
      ]
    },
    {
      "cell_type": "code",
      "execution_count": 11,
      "metadata": {
        "id": "-Ocb1XZdE2c2",
        "colab": {
          "base_uri": "https://localhost:8080/"
        },
        "outputId": "f595b216-cc5d-4941-a369-e8e124113070"
      },
      "outputs": [
        {
          "output_type": "execute_result",
          "data": {
            "text/plain": [
              "0.29495366835845543"
            ]
          },
          "metadata": {},
          "execution_count": 11
        }
      ],
      "source": [
        "#calculate the Annual Volatility using the daily volatility given above.\n",
        "annual_vol= daily_vol*np.sqrt(252)\n",
        "annual_vol"
      ]
    },
    {
      "cell_type": "code",
      "execution_count": 12,
      "metadata": {
        "id": "8kOf2izOE2c3"
      },
      "outputs": [],
      "source": [
        "expiry = datetime.strptime('2021-06-24', '%Y-%m-%d')   #Expiry date"
      ]
    },
    {
      "cell_type": "code",
      "execution_count": 13,
      "metadata": {
        "id": "-yoknf1QE2c3",
        "colab": {
          "base_uri": "https://localhost:8080/"
        },
        "outputId": "423cc4e8-8bf3-4471-f184-2983050cd87d"
      },
      "outputs": [
        {
          "output_type": "execute_result",
          "data": {
            "text/plain": [
              "TimedeltaIndex(['27 days', '24 days', '23 days', '22 days', '21 days',\n",
              "                '20 days', '17 days', '16 days', '15 days', '14 days',\n",
              "                '13 days', '10 days',  '9 days',  '8 days',  '7 days',\n",
              "                 '6 days',  '3 days',  '2 days',  '1 days',  '0 days'],\n",
              "               dtype='timedelta64[ns]', name='Date', freq=None)"
            ]
          },
          "metadata": {},
          "execution_count": 13
        }
      ],
      "source": [
        "time = expiry-df.index    #Time left in days\n",
        "time"
      ]
    },
    {
      "cell_type": "code",
      "execution_count": 14,
      "metadata": {
        "id": "FJFrnj9-E2c4"
      },
      "outputs": [],
      "source": [
        "#Convert Time left in days to int data type\n",
        "time =(time/ np.timedelta64(1,'D')).astype(int)\n"
      ]
    },
    {
      "cell_type": "code",
      "source": [
        "time"
      ],
      "metadata": {
        "colab": {
          "base_uri": "https://localhost:8080/"
        },
        "id": "y1t4YLZQTqgD",
        "outputId": "6948081d-8f1b-4d84-d276-21eb79f1f1c0"
      },
      "execution_count": 15,
      "outputs": [
        {
          "output_type": "execute_result",
          "data": {
            "text/plain": [
              "Int64Index([27, 24, 23, 22, 21, 20, 17, 16, 15, 14, 13, 10, 9, 8, 7, 6, 3, 2,\n",
              "            1, 0],\n",
              "           dtype='int64', name='Date')"
            ]
          },
          "metadata": {},
          "execution_count": 15
        }
      ]
    },
    {
      "cell_type": "markdown",
      "metadata": {
        "id": "FgnMtj7_E2c4"
      },
      "source": [
        "### Initial buying and selling"
      ]
    },
    {
      "cell_type": "code",
      "execution_count": 16,
      "metadata": {
        "id": "nGqd2GvsE2c4"
      },
      "outputs": [],
      "source": [
        "no_of_lots_fut = 10           #number of future lots we bought at start of the month\n",
        "buy_avg_future = df_fut['Open'][0]       #buying average of that lot\n",
        "lot_size = 25     #lot size of bank nifty\n",
        "delta = 1*no_of_lots_fut*lot_size    #taking delta of future is 1 as if banknifty changes by 1 the future would also change by 1\n",
        "delta_to_maintain = 0.8  #Maintain 0.8 delta per future contract"
      ]
    },
    {
      "cell_type": "code",
      "execution_count": 17,
      "metadata": {
        "id": "lqfa2YdPE2c5",
        "colab": {
          "base_uri": "https://localhost:8080/"
        },
        "outputId": "9729ac1d-5647-4094-bcde-ed75578d62b0"
      },
      "outputs": [
        {
          "output_type": "execute_result",
          "data": {
            "text/plain": [
              "1.1808901101033458e-15"
            ]
          },
          "metadata": {},
          "execution_count": 17
        }
      ],
      "source": [
        "flag = 'c'   #for call or put option\n",
        "S = df_year['Open'][0]    #price of the underlying\n",
        "K = 36000   #strike price\n",
        "t = time[0]/365   #time left to expiry in years\n",
        "sigma =annual_vol   #volatility\n",
        "r = 0.06  #risk free rate\n",
        "delta_per_lot_call = derivatives.delta(flag,S,K,t,r,sigma) #Calculate delta per lot\n",
        "delta_per_lot_call"
      ]
    },
    {
      "cell_type": "code",
      "execution_count": 18,
      "metadata": {
        "id": "_GCdbh6iE2c5",
        "colab": {
          "base_uri": "https://localhost:8080/"
        },
        "outputId": "58095a38-beb6-40e2-909a-1c5201f18c9d"
      },
      "outputs": [
        {
          "output_type": "execute_result",
          "data": {
            "text/plain": [
              "0.8"
            ]
          },
          "metadata": {},
          "execution_count": 18
        }
      ],
      "source": [
        "delta_to_maintain"
      ]
    },
    {
      "cell_type": "code",
      "execution_count": 19,
      "metadata": {
        "id": "M8TuuoGCE2c6",
        "colab": {
          "base_uri": "https://localhost:8080/"
        },
        "outputId": "6143555e-fc99-42fe-8c23-aa8e3bb499c0"
      },
      "outputs": [
        {
          "output_type": "execute_result",
          "data": {
            "text/plain": [
              "250"
            ]
          },
          "metadata": {},
          "execution_count": 19
        }
      ],
      "source": [
        "delta"
      ]
    },
    {
      "cell_type": "code",
      "execution_count": 20,
      "metadata": {
        "id": "guVV7FCWE2c6"
      },
      "outputs": [],
      "source": [
        "number_of_lots_call = (delta-200)/delta_per_lot_call #Calculate Number of call lots we have to sell to keep delta of 200"
      ]
    },
    {
      "cell_type": "code",
      "execution_count": 21,
      "metadata": {
        "id": "j5ZAObpFE2c6",
        "colab": {
          "base_uri": "https://localhost:8080/"
        },
        "outputId": "1d874f5c-77f1-4c01-e292-0567026c3df1"
      },
      "outputs": [
        {
          "output_type": "execute_result",
          "data": {
            "text/plain": [
              "4.234094228769876e+16"
            ]
          },
          "metadata": {},
          "execution_count": 21
        }
      ],
      "source": [
        "number_of_lots_call"
      ]
    },
    {
      "cell_type": "code",
      "execution_count": 22,
      "metadata": {
        "id": "92acckStE2c7",
        "colab": {
          "base_uri": "https://localhost:8080/"
        },
        "outputId": "322dd2f3-b1a9-400d-a951-4cfa1c83812d"
      },
      "outputs": [
        {
          "output_type": "execute_result",
          "data": {
            "text/plain": [
              "849.95"
            ]
          },
          "metadata": {},
          "execution_count": 22
        }
      ],
      "source": [
        "sell_avg_call = df_call_36000['Open'][0]  #selling avg of call \n",
        "sell_avg_call"
      ]
    },
    {
      "cell_type": "code",
      "execution_count": 23,
      "metadata": {
        "id": "u5dry9CNE2c7"
      },
      "outputs": [],
      "source": [
        "# Before moving on to managing delta, answer a few questions:\n",
        "\n",
        "#Q1 : What do you think would happen to the delta of call option as banknifty goes up? (increase/decrease) \n",
        "#Ans : increase\n",
        "\n",
        "#Q2 : So to manage the delta what would be done to call options already sold? (Buy some call options / Sell more) \n",
        "#Hint : Remember selling call options would give negative delta\n",
        "#Ans : sell more"
      ]
    },
    {
      "cell_type": "markdown",
      "metadata": {
        "id": "JX8Nlrq8E2c8"
      },
      "source": [
        "### Managing delta"
      ]
    },
    {
      "cell_type": "code",
      "execution_count": 24,
      "metadata": {
        "id": "vmkLZoGhE2c8",
        "colab": {
          "base_uri": "https://localhost:8080/"
        },
        "outputId": "5cf4615a-ce65-45bb-9358-1a9915723098"
      },
      "outputs": [
        {
          "output_type": "stream",
          "name": "stdout",
          "text": [
            "35321.8 35499.0 849.95 730.8\n",
            "35602.9 35499.0 693.9 772.95\n",
            "35454.1 35499.0 782.0 660.65\n",
            "35524.25 35499.0 575.5 612.7\n",
            "35781.95 35499.0 659.05 698.4\n",
            "35508.5 35499.0 677.1 549.15\n",
            "35622.2 35499.0 563.0 537.05\n",
            "35265.3 35499.0 501.95 349.15\n",
            "34929.35 35499.0 330.7 234.7\n",
            "35266.35 35499.0 218.95 306.15\n",
            "35169.35 35499.0 352.7 242.95\n",
            "35065.1 35499.0 192.6 172.55\n",
            "35330.4 35499.0 176.35 203.7\n",
            "35101.35 35499.0 177.25 145.05\n",
            "34682.2 35499.0 86.95 55.9\n",
            "34596.75 35499.0 57.3 32.05\n",
            "34911.1 35499.0 28.0 25.65\n",
            "34775.8 35499.0 64.05 14.7\n",
            "34611.9 35499.0 19.9 8.1\n"
          ]
        }
      ],
      "source": [
        "number_of_lots_call = math.ceil((delta-delta_to_maintain)/delta_per_lot_call)  #number of call lots we have to sell to keep delta of 200\n",
        "sell_avg_call = df_call_36000['Open'][0]  #selling avg of call \n",
        "profit= []\n",
        "\n",
        "for i in range(len(df)-1):\n",
        "    delta_per_lot_call = derivatives.delta(flag,df['Open'][i],K,time[i]/365,sigma,r) #Calculate delta per lot at the next closing day\n",
        "    #current_number_of_lots_call = #number of lots required to sell\n",
        "   # no_of_lots_added =  #number of lots added/subtracted for selling\n",
        "    sell_avg_call =sell_avg_call = df_call_36000['Open'][i] #new selling avg of call\n",
        "    number_of_lots_call =math.ceil((delta-delta_to_maintain)/delta_per_lot_call) #update number of lots of calls sold\n",
        "    profit.append((df_fut['Close'][i]-buy_avg_future)*no_of_lots_fut*lot_size + (sell_avg_call-df_call_36000['Close'][i])*lot_size*number_of_lots_call)  #unrealised profit \n",
        "    print(df_fut['Close'][i], buy_avg_future, sell_avg_call, df_call_36000['Close'][i])"
      ]
    },
    {
      "cell_type": "code",
      "execution_count": 25,
      "metadata": {
        "id": "nX1HzguLE2c8",
        "colab": {
          "base_uri": "https://localhost:8080/"
        },
        "outputId": "9f4c23e5-e6f4-404b-d52d-c199dddc6998"
      },
      "outputs": [
        {
          "output_type": "execute_result",
          "data": {
            "text/plain": [
              "272007918935211889393664"
            ]
          },
          "metadata": {},
          "execution_count": 25
        }
      ],
      "source": [
        "#As you can see that the number of lots of call sold is way too many as the delta of out of money call option approches 0 in the end\n",
        "#Thus this strategy would practically be possible by changing the strike price of the call option as it goes deep out of money\n",
        "#But that would require much higher level programming thats why we have given this simple assignment jst theoretically make\n",
        "#you realise the power of hedging\n",
        "number_of_lots_call"
      ]
    },
    {
      "cell_type": "code",
      "execution_count": 26,
      "metadata": {
        "id": "PYs591BGE2c9",
        "colab": {
          "base_uri": "https://localhost:8080/"
        },
        "outputId": "2d3b4e99-5713-4add-c805-03a22ede7813"
      },
      "outputs": [
        {
          "output_type": "execute_result",
          "data": {
            "text/plain": [
              "19.9"
            ]
          },
          "metadata": {},
          "execution_count": 26
        }
      ],
      "source": [
        "sell_avg_call"
      ]
    },
    {
      "cell_type": "code",
      "execution_count": 27,
      "metadata": {
        "id": "5FjY0bjwE2c9",
        "colab": {
          "base_uri": "https://localhost:8080/"
        },
        "outputId": "3aded58a-dd1d-4270-db97-7ebeb1a1a237"
      },
      "outputs": [
        {
          "output_type": "execute_result",
          "data": {
            "text/plain": [
              "9.161497980481796e-22"
            ]
          },
          "metadata": {},
          "execution_count": 27
        }
      ],
      "source": [
        "delta_per_lot_call"
      ]
    },
    {
      "cell_type": "code",
      "execution_count": 28,
      "metadata": {
        "id": "M99IUsY0E2c-",
        "colab": {
          "base_uri": "https://localhost:8080/"
        },
        "outputId": "f454ddd4-23b7-4bc4-e600-6bdf55d04ab6"
      },
      "outputs": [
        {
          "output_type": "execute_result",
          "data": {
            "text/plain": [
              "[1221668.7500000016,\n",
              " -1377162.500000001,\n",
              " 1044519.9999999999,\n",
              " -531227.5000000007,\n",
              " -329648.75000000093,\n",
              " 1169918.7500000002,\n",
              " 381773.7499999999,\n",
              " 2264135.0000000014,\n",
              " 3901587.4999999995,\n",
              " -11350562.499999998,\n",
              " 2891812.4999999995,\n",
              " 8890466.249999993,\n",
              " -9534651.249999998,\n",
              " 5604817.499999998,\n",
              " 6645466888.750001,\n",
              " 5299221712.5,\n",
              " 1.0327715772824487e+25,\n",
              " 10984587947139.998,\n",
              " 8.024233608588752e+25]"
            ]
          },
          "metadata": {},
          "execution_count": 28
        }
      ],
      "source": [
        "profit"
      ]
    },
    {
      "cell_type": "code",
      "execution_count": 29,
      "metadata": {
        "id": "HsLZgkn9E2c-",
        "colab": {
          "base_uri": "https://localhost:8080/",
          "height": 294
        },
        "outputId": "4e304a48-659c-40d9-f71e-b6a3c8dc6e77"
      },
      "outputs": [
        {
          "output_type": "execute_result",
          "data": {
            "text/plain": [
              "<matplotlib.legend.Legend at 0x7f2f91f86370>"
            ]
          },
          "metadata": {},
          "execution_count": 29
        },
        {
          "output_type": "display_data",
          "data": {
            "text/plain": [
              "<Figure size 432x288 with 1 Axes>"
            ],
            "image/png": "[encoded data removed]"
          },
          "metadata": {
            "needs_background": "light"
          }
        }
      ],
      "source": [
        "plt.plot(profit[:14], label = 'strategy_profit')\n",
        "plt.plot((df_fut['Close']-df_fut['Open'][0])[:14]*250, label = 'futures_profit')\n",
        "plt.legend()"
      ]
    },
    {
      "cell_type": "markdown",
      "metadata": {
        "id": "AID1g2RfE2c-"
      },
      "source": [
        "As you can see from the above graph of first first 14 days of the strategy that though the futures did fall very down but<br/>\n",
        "We were able to hedge this with selling of call option and our strategy did give better returns overall<br/>\n",
        "<br/>\n",
        "We didnt plot the whole graph as in the end many lots of call options were sold which is practically not possible<br/>"
      ]
    }
  ],
  "metadata": {
    "kernelspec": {
      "display_name": "Python 3",
      "language": "python",
      "name": "python3"
    },
    "language_info": {
      "codemirror_mode": {
        "name": "ipython",
        "version": 3
      },
      "file_extension": ".py",
      "mimetype": "text/x-python",
      "name": "python",
      "nbconvert_exporter": "python",
      "pygments_lexer": "ipython3",
      "version": "3.7.3"
    },
    "colab": {
      "provenance": []
    }
  },
  "nbformat": 4,
  "nbformat_minor": 0
}